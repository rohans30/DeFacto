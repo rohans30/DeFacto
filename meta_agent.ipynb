{
 "cells": [
  {
   "cell_type": "code",
   "execution_count": 27,
   "metadata": {},
   "outputs": [],
   "source": [
    "import pdfplumber\n",
    "import autogen\n",
    "from autogen import ConversableAgent\n",
    "import os\n",
    "from autogen import GroupChat\n",
    "from autogen import GroupChatManager"
   ]
  },
  {
   "cell_type": "code",
   "execution_count": 28,
   "metadata": {},
   "outputs": [],
   "source": [
    "def extract_text_from_pdf(file_path):\n",
    "    with pdfplumber.open(file_path) as pdf:\n",
    "        text = \"\"\n",
    "        for page in pdf.pages:\n",
    "            text += page.extract_text()\n",
    "    return text\n",
    "\n",
    "pdf_text = extract_text_from_pdf(\"mock_trial.pdf\")"
   ]
  },
  {
   "cell_type": "code",
   "execution_count": 29,
   "metadata": {},
   "outputs": [
    {
     "name": "stdout",
     "output_type": "stream",
     "text": [
      "Estimated tokens: 5215\n"
     ]
    }
   ],
   "source": [
    "def estimate_tokens(text):\n",
    "    return len(text) // 4\n",
    "\n",
    "total_tokens = estimate_tokens(pdf_text)\n",
    "print(f\"Estimated tokens: {total_tokens}\")"
   ]
  },
  {
   "cell_type": "code",
   "execution_count": 30,
   "metadata": {},
   "outputs": [
    {
     "name": "stdout",
     "output_type": "stream",
     "text": [
      "API key loaded successfully.\n"
     ]
    }
   ],
   "source": [
    "import os\n",
    "\n",
    "# Check if API key is loaded\n",
    "api_key = os.getenv(\"OPENAI_API_KEY\")\n",
    "if api_key:\n",
    "    print(\"API key loaded successfully.\")\n",
    "else:\n",
    "    print(\"API key NOT found. Double-check your environment variable.\")"
   ]
  },
  {
   "cell_type": "code",
   "execution_count": 31,
   "metadata": {},
   "outputs": [],
   "source": [
    "llm_config = {\"config_list\": [{\"model\": \"gpt-4o\", \"api_key\": api_key, \"temperature\": 0.7}]}"
   ]
  },
  {
   "cell_type": "code",
   "execution_count": 32,
   "metadata": {},
   "outputs": [],
   "source": [
    "analysis_agent = ConversableAgent(\n",
    "    name=\"legal_analysis_agent\", \n",
    "    system_message=f\"\"\"\n",
    "    You are LegalAnalysisAgent, an AI expert in analyzing legal court proceedings. This is the court proceeding you will be analyzing: {pdf_text} Your primary role is to explain the reasoning behind the behavior, questioning style, and responses of participants in a court transcript, including attorneys, judges, witnesses, and other legal professionals. You should provide insights into the legal strategies, arguments, and tactics used by the participants. You can also provide general legal knowledge and context to help the user understand the legal proceedings better. Your goal is to help the user gain a deeper understanding of the legal aspects of the court transcript. You can also answer questions related to legal concepts, procedures, and strategies. You have access to a wide range of legal knowledge and can provide detailed explanations on legal topics. You should provide accurate, informative, and insightful responses to the user's questions.\n",
    "    \"\"\",\n",
    "    llm_config=llm_config, \n",
    ")\n",
    "\n",
    "human_agent = ConversableAgent(\n",
    "        \"human_agent\",\n",
    "        llm_config=False,\n",
    "        human_input_mode=\"ALWAYS\",\n",
    "        description=\"\"\"\n",
    "        Human user asking questions to the feedback agent.\n",
    "        \"\"\"\n",
    "    )"
   ]
  },
  {
   "cell_type": "code",
   "execution_count": 33,
   "metadata": {},
   "outputs": [
    {
     "name": "stdout",
     "output_type": "stream",
     "text": [
      "\u001b[33mhuman_agent\u001b[0m (to legal_analysis_agent):\n",
      "\n",
      "First, can you summarize the court proceedings and the main legal issues discussed in the transcript?\n",
      "\n",
      "--------------------------------------------------------------------------------\n",
      "\u001b[31m\n",
      ">>>>>>>> USING AUTO REPLY...\u001b[0m\n",
      "\u001b[33mlegal_analysis_agent\u001b[0m (to human_agent):\n",
      "\n",
      "Certainly! This mock trial script outlines a fictional court proceeding in which the defendant is charged with the crime of driving or taking a car without the owner's permission. Here is a summary of the proceedings and the main legal issues discussed:\n",
      "\n",
      "1. **Opening Statements**: \n",
      "   - The Deputy District Attorney (DA) presents the prosecution's case, asserting that the defendant stole a 2004 Corvette and was found driving it the following day, with fingerprints on the keys.\n",
      "   - The Public Defender counters by emphasizing the presumption of innocence, arguing that the defendant was merely returning the stolen car after discovering its status and did not intend to steal it.\n",
      "\n",
      "2. **Prosecution's Case**:\n",
      "   - **Car Owner Testimony**: The owner of the stolen Corvette testifies that the car was missing from the lot on February 9th and that no one, including the defendant, had permission to take it.\n",
      "   - **Arresting Officer Testimony**: The officer who arrested the defendant testifies about stopping the car, finding shaved keys, and identifying the defendant as the driver.\n",
      "   - **Fingerprint Expert Testimony**: An expert testifies that the defendant's fingerprints were found on the keys, although there were other unidentified prints.\n",
      "\n",
      "3. **Defense Case**:\n",
      "   - **Defendant Testimony**: The defendant testifies that they were given a ride in the Corvette by someone named Rick, who admitted stealing the car. The defendant claims they intended to return the car to its owner after Rick left them with the vehicle.\n",
      "\n",
      "4. **Jury Instructions**:\n",
      "   - The judge instructs the jury on the legal standards they must apply, emphasizing that the prosecution must prove beyond a reasonable doubt that the defendant took or drove the car without permission and intended to deprive the owner of it.\n",
      "\n",
      "5. **Closing Arguments**:\n",
      "   - The Deputy DA argues that the defendant's actions demonstrate an intent to keep the car, as there was no effort to contact the police or return the vehicle promptly.\n",
      "   - The Public Defender argues there is reasonable doubt regarding the defendant's intent, highlighting the lack of evidence showing that the defendant planned to keep the car.\n",
      "\n",
      "6. **Jury Deliberation and Verdict**:\n",
      "   - The jury deliberates on whether the prosecution has met its burden of proving the defendant's guilt beyond a reasonable doubt.\n",
      "\n",
      "**Main Legal Issues**:\n",
      "- **Presumption of Innocence**: The defense emphasizes that the defendant is presumed innocent until proven guilty.\n",
      "- **Elements of the Crime**: The prosecution must prove the defendant took or drove the car without permission and intended to deprive the owner of it.\n",
      "- **Reasonable Doubt**: The jury must be convinced beyond a reasonable doubt of the defendant's guilt to convict.\n",
      "- **Intent**: Key to the prosecution's case is proving that the defendant intended to take the car, not just that they were found driving it.\n",
      "\n",
      "The trial demonstrates the adversarial nature of criminal proceedings, where both sides present evidence and arguments to sway the jury's decision.\n",
      "\n",
      "--------------------------------------------------------------------------------\n",
      "\u001b[33mhuman_agent\u001b[0m (to legal_analysis_agent):\n",
      "\n",
      "Based on the court proceedings, I want to understand why certain participants, like the attorneys or the judge, spoke or acted the way they did. Can you explain the reasoning behind their statements and behavior based on the transcript?\n",
      "\n",
      "--------------------------------------------------------------------------------\n",
      "\u001b[31m\n",
      ">>>>>>>> USING AUTO REPLY...\u001b[0m\n",
      "\u001b[33mlegal_analysis_agent\u001b[0m (to human_agent):\n",
      "\n",
      "Certainly! Let's delve into the reasoning behind the actions and statements of the key participants in the mock trial:\n",
      "\n",
      "1. **Judge**:\n",
      "   - **Opening and Closing**: The judge begins by establishing the court's authority and ensuring procedural decorum. The judge's role is to maintain order and ensure the trial adheres to legal standards.\n",
      "   - **Jury Instructions**: The judge provides critical legal instructions to the jury, detailing the elements of the crime and the standard of proof. This ensures that the jury understands the legal framework within which they must deliberate.\n",
      "\n",
      "2. **Deputy District Attorney (Prosecution)**:\n",
      "   - **Opening Statement**: The Deputy DA outlines the prosecution's case, aiming to frame the narrative that the defendant knowingly took the car without permission. This sets the foundation for the evidence they plan to present.\n",
      "   - **Questioning Witnesses**: The Deputy DA's questioning is structured to establish facts supporting the charge, such as ownership, lack of permission, and the defendant's possession of the car. The goal is to build a logical and evidentiary chain that supports the charge.\n",
      "   - **Cross-Examination of Defendant**: The Deputy DA aims to challenge the credibility of the defendant's narrative and highlight inconsistencies or admissions that suggest guilt.\n",
      "   - **Closing Argument**: The Deputy DA summarizes the evidence and argues that the prosecution has met its burden of proof. The focus is on persuading the jury that the defendant's actions meet the legal definition of the crime.\n",
      "\n",
      "3. **Public Defender (Defense)**:\n",
      "   - **Opening Statement**: The Public Defender emphasizes the presumption of innocence and introduces the defense's narrative, suggesting the defendant's innocence and intent to return the car.\n",
      "   - **Questioning Witnesses**: The Public Defender's questioning aims to cast doubt on the prosecution's narrative, highlight gaps in evidence, and suggest alternative explanations (e.g., the existence of another person, Rick).\n",
      "   - **Direct Examination of Defendant**: The Public Defender allows the defendant to tell their story, supporting the narrative of innocence and lack of intent to commit the crime.\n",
      "   - **Closing Argument**: The Public Defender focuses on creating reasonable doubt, arguing that the prosecution has failed to prove the defendant's intent to keep the car.\n",
      "\n",
      "4. **Witnesses**:\n",
      "   - **Car Owner & Officer**: These witnesses provide factual testimony about the car's ownership, the lack of permission, and the circumstances of the arrest. Their testimony is crucial for establishing the prosecution's case.\n",
      "   - **Fingerprint Expert**: Provides technical evidence to bolster the prosecution's case by linking the defendant to the car through fingerprints. However, the expert's acknowledgment of other unidentified prints allows the defense to suggest alternative scenarios.\n",
      "\n",
      "5. **Defendant**:\n",
      "   - **Testimony**: By choosing to testify, the defendant provides a personal account to counter the prosecution's narrative. This is risky but can be powerful in persuading the jury of their innocence if credible.\n",
      "\n",
      "In essence, each participant acts in alignment with their roles and objectives: the prosecution seeks to establish guilt beyond a reasonable doubt, the defense aims to cast doubt on the prosecution's case, and the judge ensures the trial proceeds fairly and according to the law. The strategies and behaviors are shaped by these roles and the need to persuade the jury of their respective positions.\n",
      "\n",
      "--------------------------------------------------------------------------------\n"
     ]
    }
   ],
   "source": [
    "chat_result = human_agent.initiate_chat(\n",
    "    recipient=analysis_agent,\n",
    "    message=\"First, can you summarize the court proceedings and the main legal issues discussed in the transcript?\"\n",
    ")\n",
    "\n",
    "# message=\"Based on the court proceedings, I want to understand why certain participants, like the attorneys or the judge, spoke or acted the way they did. Can you explain the reasoning behind their statements and behavior based on the transcript?\"\n"
   ]
  }
 ],
 "metadata": {
  "kernelspec": {
   "display_name": "Python 3",
   "language": "python",
   "name": "python3"
  },
  "language_info": {
   "codemirror_mode": {
    "name": "ipython",
    "version": 3
   },
   "file_extension": ".py",
   "mimetype": "text/x-python",
   "name": "python",
   "nbconvert_exporter": "python",
   "pygments_lexer": "ipython3",
   "version": "3.11.3"
  }
 },
 "nbformat": 4,
 "nbformat_minor": 2
}
